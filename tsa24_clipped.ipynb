{
 "cells": [
  {
   "cell_type": "markdown",
   "id": "e513bfbd-a2fe-48b1-a1a3-68635d1222fa",
   "metadata": {},
   "source": [
    "Extract a small subset from the middle of the TSA 24 spatial stand inventory (for the purpose of building a prototype model)."
   ]
  },
  {
   "cell_type": "code",
   "execution_count": 1,
   "id": "344c218f-dfa6-4cee-8fee-60b4e5d1f76e",
   "metadata": {},
   "outputs": [
    {
     "name": "stderr",
     "output_type": "stream",
     "text": [
      "/opt/jupyterhub/lib/python3.8/site-packages/geopandas/_compat.py:111: UserWarning: The Shapely GEOS version (3.10.2-CAPI-1.16.0) is incompatible with the GEOS version PyGEOS was compiled with (3.10.3-CAPI-1.16.1). Conversions between both will be slow.\n",
      "  warnings.warn(\n"
     ]
    }
   ],
   "source": [
    "import pandas as pd\n",
    "import geopandas as gpd\n",
    "from shapely.geometry import Polygon"
   ]
  },
  {
   "cell_type": "markdown",
   "id": "73938ddc-d25e-452c-8459-b3b9fad3a0b5",
   "metadata": {},
   "source": [
    "Load inventory data into memory as a GeoDataFrame."
   ]
  },
  {
   "cell_type": "code",
   "execution_count": 2,
   "id": "4f3c91a6-bfbe-40f4-9675-243aa3c418d3",
   "metadata": {},
   "outputs": [
    {
     "data": {
      "text/html": [
       "<div>\n",
       "<style scoped>\n",
       "    .dataframe tbody tr th:only-of-type {\n",
       "        vertical-align: middle;\n",
       "    }\n",
       "\n",
       "    .dataframe tbody tr th {\n",
       "        vertical-align: top;\n",
       "    }\n",
       "\n",
       "    .dataframe thead th {\n",
       "        text-align: right;\n",
       "    }\n",
       "</style>\n",
       "<table border=\"1\" class=\"dataframe\">\n",
       "  <thead>\n",
       "    <tr style=\"text-align: right;\">\n",
       "      <th></th>\n",
       "      <th>theme0</th>\n",
       "      <th>theme1</th>\n",
       "      <th>theme2</th>\n",
       "      <th>curve1</th>\n",
       "      <th>curve2</th>\n",
       "      <th>SPECIES_CD</th>\n",
       "      <th>age</th>\n",
       "      <th>area</th>\n",
       "      <th>theme3</th>\n",
       "      <th>geometry</th>\n",
       "    </tr>\n",
       "  </thead>\n",
       "  <tbody>\n",
       "    <tr>\n",
       "      <th>0</th>\n",
       "      <td>tsa24</td>\n",
       "      <td>1</td>\n",
       "      <td>2401007</td>\n",
       "      <td>2401007</td>\n",
       "      <td>2401007</td>\n",
       "      <td>SX</td>\n",
       "      <td>155</td>\n",
       "      <td>6.8</td>\n",
       "      <td>100</td>\n",
       "      <td>POLYGON ((1089487.210 1124966.350, 1089494.487...</td>\n",
       "    </tr>\n",
       "    <tr>\n",
       "      <th>1</th>\n",
       "      <td>tsa24</td>\n",
       "      <td>1</td>\n",
       "      <td>2403000</td>\n",
       "      <td>2423000</td>\n",
       "      <td>2403000</td>\n",
       "      <td>SX</td>\n",
       "      <td>36</td>\n",
       "      <td>40.9</td>\n",
       "      <td>100</td>\n",
       "      <td>POLYGON ((1123192.528 1094020.302, 1123183.729...</td>\n",
       "    </tr>\n",
       "    <tr>\n",
       "      <th>2</th>\n",
       "      <td>tsa24</td>\n",
       "      <td>1</td>\n",
       "      <td>2403000</td>\n",
       "      <td>2423000</td>\n",
       "      <td>2403000</td>\n",
       "      <td>SX</td>\n",
       "      <td>44</td>\n",
       "      <td>17.6</td>\n",
       "      <td>100</td>\n",
       "      <td>POLYGON ((1115968.140 1094682.004, 1115946.830...</td>\n",
       "    </tr>\n",
       "    <tr>\n",
       "      <th>3</th>\n",
       "      <td>tsa24</td>\n",
       "      <td>0</td>\n",
       "      <td>2402001</td>\n",
       "      <td>2402001</td>\n",
       "      <td>2402001</td>\n",
       "      <td>BL</td>\n",
       "      <td>95</td>\n",
       "      <td>20.3</td>\n",
       "      <td>304</td>\n",
       "      <td>POLYGON ((861311.897 1337705.266, 861317.774 1...</td>\n",
       "    </tr>\n",
       "    <tr>\n",
       "      <th>4</th>\n",
       "      <td>tsa24</td>\n",
       "      <td>0</td>\n",
       "      <td>2403000</td>\n",
       "      <td>2403000</td>\n",
       "      <td>2403000</td>\n",
       "      <td>SX</td>\n",
       "      <td>146</td>\n",
       "      <td>6.5</td>\n",
       "      <td>100</td>\n",
       "      <td>POLYGON ((992214.338 1146502.183, 992239.290 1...</td>\n",
       "    </tr>\n",
       "    <tr>\n",
       "      <th>...</th>\n",
       "      <td>...</td>\n",
       "      <td>...</td>\n",
       "      <td>...</td>\n",
       "      <td>...</td>\n",
       "      <td>...</td>\n",
       "      <td>...</td>\n",
       "      <td>...</td>\n",
       "      <td>...</td>\n",
       "      <td>...</td>\n",
       "      <td>...</td>\n",
       "    </tr>\n",
       "    <tr>\n",
       "      <th>458703</th>\n",
       "      <td>tsa24</td>\n",
       "      <td>0</td>\n",
       "      <td>2403001</td>\n",
       "      <td>2403001</td>\n",
       "      <td>2403001</td>\n",
       "      <td>BL</td>\n",
       "      <td>143</td>\n",
       "      <td>8.1</td>\n",
       "      <td>304</td>\n",
       "      <td>POLYGON ((969595.215 1267762.572, 969590.908 1...</td>\n",
       "    </tr>\n",
       "    <tr>\n",
       "      <th>458704</th>\n",
       "      <td>tsa24</td>\n",
       "      <td>1</td>\n",
       "      <td>2401004</td>\n",
       "      <td>2401004</td>\n",
       "      <td>2401004</td>\n",
       "      <td>SE</td>\n",
       "      <td>207</td>\n",
       "      <td>8.6</td>\n",
       "      <td>104</td>\n",
       "      <td>POLYGON ((1117201.111 967846.360, 1117226.363 ...</td>\n",
       "    </tr>\n",
       "    <tr>\n",
       "      <th>458705</th>\n",
       "      <td>tsa24</td>\n",
       "      <td>0</td>\n",
       "      <td>2403001</td>\n",
       "      <td>2403001</td>\n",
       "      <td>2403001</td>\n",
       "      <td>BL</td>\n",
       "      <td>181</td>\n",
       "      <td>19.4</td>\n",
       "      <td>304</td>\n",
       "      <td>POLYGON ((1006994.604 1208298.668, 1007013.180...</td>\n",
       "    </tr>\n",
       "    <tr>\n",
       "      <th>458706</th>\n",
       "      <td>tsa24</td>\n",
       "      <td>1</td>\n",
       "      <td>2403001</td>\n",
       "      <td>2403001</td>\n",
       "      <td>2403001</td>\n",
       "      <td>BL</td>\n",
       "      <td>77</td>\n",
       "      <td>8.5</td>\n",
       "      <td>304</td>\n",
       "      <td>POLYGON ((1105663.519 962962.601, 1105664.969 ...</td>\n",
       "    </tr>\n",
       "    <tr>\n",
       "      <th>458707</th>\n",
       "      <td>tsa24</td>\n",
       "      <td>0</td>\n",
       "      <td>2401000</td>\n",
       "      <td>2401000</td>\n",
       "      <td>2401000</td>\n",
       "      <td>SX</td>\n",
       "      <td>157</td>\n",
       "      <td>15.1</td>\n",
       "      <td>100</td>\n",
       "      <td>POLYGON ((1080904.488 932243.330, 1080905.673 ...</td>\n",
       "    </tr>\n",
       "  </tbody>\n",
       "</table>\n",
       "<p>458708 rows × 10 columns</p>\n",
       "</div>"
      ],
      "text/plain": [
       "       theme0  theme1   theme2   curve1   curve2 SPECIES_CD  age  area  \\\n",
       "0       tsa24       1  2401007  2401007  2401007         SX  155   6.8   \n",
       "1       tsa24       1  2403000  2423000  2403000         SX   36  40.9   \n",
       "2       tsa24       1  2403000  2423000  2403000         SX   44  17.6   \n",
       "3       tsa24       0  2402001  2402001  2402001         BL   95  20.3   \n",
       "4       tsa24       0  2403000  2403000  2403000         SX  146   6.5   \n",
       "...       ...     ...      ...      ...      ...        ...  ...   ...   \n",
       "458703  tsa24       0  2403001  2403001  2403001         BL  143   8.1   \n",
       "458704  tsa24       1  2401004  2401004  2401004         SE  207   8.6   \n",
       "458705  tsa24       0  2403001  2403001  2403001         BL  181  19.4   \n",
       "458706  tsa24       1  2403001  2403001  2403001         BL   77   8.5   \n",
       "458707  tsa24       0  2401000  2401000  2401000         SX  157  15.1   \n",
       "\n",
       "        theme3                                           geometry  \n",
       "0          100  POLYGON ((1089487.210 1124966.350, 1089494.487...  \n",
       "1          100  POLYGON ((1123192.528 1094020.302, 1123183.729...  \n",
       "2          100  POLYGON ((1115968.140 1094682.004, 1115946.830...  \n",
       "3          304  POLYGON ((861311.897 1337705.266, 861317.774 1...  \n",
       "4          100  POLYGON ((992214.338 1146502.183, 992239.290 1...  \n",
       "...        ...                                                ...  \n",
       "458703     304  POLYGON ((969595.215 1267762.572, 969590.908 1...  \n",
       "458704     104  POLYGON ((1117201.111 967846.360, 1117226.363 ...  \n",
       "458705     304  POLYGON ((1006994.604 1208298.668, 1007013.180...  \n",
       "458706     304  POLYGON ((1105663.519 962962.601, 1105664.969 ...  \n",
       "458707     100  POLYGON ((1080904.488 932243.330, 1080905.673 ...  \n",
       "\n",
       "[458708 rows x 10 columns]"
      ]
     },
     "execution_count": 2,
     "metadata": {},
     "output_type": "execute_result"
    }
   ],
   "source": [
    "gdf = gpd.read_file('data/shp/tsa24.shp/stands.shp')\n",
    "gdf"
   ]
  },
  {
   "cell_type": "markdown",
   "id": "09d0213e-31a3-420b-981f-fbc28845eeb9",
   "metadata": {},
   "source": [
    "Extract the bounding box coordinates for the entire dataset."
   ]
  },
  {
   "cell_type": "code",
   "execution_count": 3,
   "id": "e776b18e-c6e4-4d73-b5b2-fc2a857a26c4",
   "metadata": {},
   "outputs": [
    {
     "data": {
      "text/plain": [
       "array([ 834450.0001,  878258.9981, 1393593.6151, 1367370.0001])"
      ]
     },
     "execution_count": 3,
     "metadata": {},
     "output_type": "execute_result"
    }
   ],
   "source": [
    "bb = gdf.total_bounds\n",
    "bb"
   ]
  },
  {
   "cell_type": "markdown",
   "id": "7593cb5d-b54c-4e6e-8183-d176b34744cb",
   "metadata": {},
   "source": [
    "Calculate the centre point."
   ]
  },
  {
   "cell_type": "code",
   "execution_count": 4,
   "id": "b1f2acdf-947d-46bc-b67d-5d447a00f796",
   "metadata": {},
   "outputs": [
    {
     "data": {
      "text/plain": [
       "(1114021.8076, 1122814.4990999997)"
      ]
     },
     "execution_count": 4,
     "metadata": {},
     "output_type": "execute_result"
    }
   ],
   "source": [
    "cx, cy = bb[0] + (bb[2] - bb[0])/2, bb[1] + (bb[3] - bb[1])/2\n",
    "cx, cy"
   ]
  },
  {
   "cell_type": "markdown",
   "id": "dde14554-bfcd-4e74-a2d5-d74c65561359",
   "metadata": {},
   "source": [
    "Define x and y buffer distances."
   ]
  },
  {
   "cell_type": "code",
   "execution_count": 5,
   "id": "77f44c14-861a-4a27-bfea-e984c0755d5f",
   "metadata": {},
   "outputs": [],
   "source": [
    "dx, dy = 2000, 2000"
   ]
  },
  {
   "cell_type": "markdown",
   "id": "6bdff2af-c16e-46a0-a441-74400591916d",
   "metadata": {},
   "source": [
    "Define a clip box polygon"
   ]
  },
  {
   "cell_type": "code",
   "execution_count": 6,
   "id": "44642976-5fcf-47d6-b4e7-4f80976bc144",
   "metadata": {},
   "outputs": [
    {
     "data": {
      "image/svg+xml": [
       "<svg xmlns=\"http://www.w3.org/2000/svg\" xmlns:xlink=\"http://www.w3.org/1999/xlink\" width=\"300\" height=\"300\" viewBox=\"1111861.8076 1120654.4990999997 4320.0 4320.0\" preserveAspectRatio=\"xMinYMin meet\"><g transform=\"matrix(1,0,0,-1,0,2245628.9981999993)\"><path fill-rule=\"evenodd\" fill=\"#66cc99\" stroke=\"#555555\" stroke-width=\"28.8\" opacity=\"0.6\" d=\"M 1112021.8076,1120814.4990999997 L 1116021.8076,1120814.4990999997 L 1116021.8076,1124814.4990999997 L 1112021.8076,1124814.4990999997 L 1112021.8076,1120814.4990999997 z\" /></g></svg>"
      ],
      "text/plain": [
       "<shapely.geometry.polygon.Polygon at 0x7f05600aee50>"
      ]
     },
     "execution_count": 6,
     "metadata": {},
     "output_type": "execute_result"
    }
   ],
   "source": [
    "clip_box = Polygon([(cx - dx, cy - dy), (cx + dx, cy - dy), (cx + dx, cy + dy), (cx - dx, cy + dy), (cx - dx, cy - dy)])\n",
    "clip_box"
   ]
  },
  {
   "cell_type": "markdown",
   "id": "c7168686-4d79-4b75-8057-f3fd6321ffeb",
   "metadata": {},
   "source": [
    "Clip invenory."
   ]
  },
  {
   "cell_type": "code",
   "execution_count": 7,
   "id": "d37c3377-29a6-426d-992c-03a979b87b84",
   "metadata": {},
   "outputs": [],
   "source": [
    "gdf_ = gdf.clip(clip_box)"
   ]
  },
  {
   "cell_type": "code",
   "execution_count": 8,
   "id": "16d91c5c-ec05-4c5a-ad2c-702f7e2de1bc",
   "metadata": {},
   "outputs": [
    {
     "data": {
      "text/plain": [
       "<matplotlib.axes._subplots.AxesSubplot at 0x7f04f99b8eb0>"
      ]
     },
     "execution_count": 8,
     "metadata": {},
     "output_type": "execute_result"
    },
    {
     "data": {
      "image/png": "[encoded data removed]",
      "text/plain": [
       "<Figure size 432x288 with 1 Axes>"
      ]
     },
     "metadata": {
      "needs_background": "light"
     },
     "output_type": "display_data"
    }
   ],
   "source": [
    "gdf_.plot()"
   ]
  },
  {
   "cell_type": "code",
   "execution_count": 9,
   "id": "1bb18ec0-f434-4e46-90b0-f25a90aae37e",
   "metadata": {},
   "outputs": [
    {
     "data": {
      "text/plain": [
       "2054.2000000000003"
      ]
     },
     "execution_count": 9,
     "metadata": {},
     "output_type": "execute_result"
    }
   ],
   "source": [
    "gdf_['area'].sum()"
   ]
  },
  {
   "cell_type": "code",
   "execution_count": 10,
   "id": "3d5ef9fb-388c-41f3-a4ca-d167f85618a4",
   "metadata": {},
   "outputs": [
    {
     "data": {
      "text/plain": [
       "1366.7377375751437"
      ]
     },
     "execution_count": 10,
     "metadata": {},
     "output_type": "execute_result"
    }
   ],
   "source": [
    "gdf_.area.sum() * 0.0001"
   ]
  },
  {
   "cell_type": "markdown",
   "id": "77b42286-3dd5-4ba2-bacd-11a55706ec7b",
   "metadata": {},
   "source": [
    "Some polygon areas wrong, because edge stands got clipped."
   ]
  },
  {
   "cell_type": "code",
   "execution_count": 12,
   "id": "fee103ca-01a6-4c6c-bb7c-5f4260900f68",
   "metadata": {},
   "outputs": [
    {
     "data": {
      "text/plain": [
       "1366.7377375751437"
      ]
     },
     "execution_count": 12,
     "metadata": {},
     "output_type": "execute_result"
    }
   ],
   "source": [
    "gdf_['area'] = gdf_.area * 0.0001\n",
    "gdf_['area'].sum()"
   ]
  },
  {
   "cell_type": "markdown",
   "id": "78542c17-b851-4574-bf70-ad27bc9b777d",
   "metadata": {},
   "source": [
    "Areas good now."
   ]
  },
  {
   "cell_type": "markdown",
   "id": "6b7c7867-6c3b-41f8-94fd-6661171b455c",
   "metadata": {},
   "source": [
    "Set `theme0` values."
   ]
  },
  {
   "cell_type": "code",
   "execution_count": 13,
   "id": "afeb12ca-ac89-4429-9518-69671bb1e7a1",
   "metadata": {},
   "outputs": [],
   "source": [
    "gdf_['theme0'] = 'tsa24_clipped'"
   ]
  },
  {
   "cell_type": "markdown",
   "id": "f256eb79-8554-4631-aece-7679b17b13e6",
   "metadata": {},
   "source": [
    "Save clipped inventory to a new Shapefile."
   ]
  },
  {
   "cell_type": "code",
   "execution_count": 14,
   "id": "6b234faa-8b36-4e77-9f62-2f00c9b1d7a0",
   "metadata": {},
   "outputs": [
    {
     "name": "stdout",
     "output_type": "stream",
     "text": [
      "mkdir: cannot create directory ‘data/shp/tsa24_clipped.shp’: File exists\n"
     ]
    }
   ],
   "source": [
    "!mkdir data/shp/tsa24_clipped.shp"
   ]
  },
  {
   "cell_type": "code",
   "execution_count": 15,
   "id": "bdf10a47-97bf-4201-8056-d80397c5a185",
   "metadata": {},
   "outputs": [
    {
     "name": "stderr",
     "output_type": "stream",
     "text": [
      "/opt/jupyterhub/lib/python3.8/site-packages/geopandas/io/file.py:362: FutureWarning: pandas.Int64Index is deprecated and will be removed from pandas in a future version. Use pandas.Index with the appropriate dtype instead.\n",
      "  pd.Int64Index,\n"
     ]
    }
   ],
   "source": [
    "gdf_.to_file('data/shp/tsa24_clipped.shp/stands.shp')"
   ]
  },
  {
   "cell_type": "code",
   "execution_count": null,
   "id": "07ad1c7d-06ad-40bc-a7bc-f0f8138524c1",
   "metadata": {},
   "outputs": [],
   "source": []
  }
 ],
 "metadata": {
  "kernelspec": {
   "display_name": "Python 3 (ipykernel)",
   "language": "python",
   "name": "python3"
  },
  "language_info": {
   "codemirror_mode": {
    "name": "ipython",
    "version": 3
   },
   "file_extension": ".py",
   "mimetype": "text/x-python",
   "name": "python",
   "nbconvert_exporter": "python",
   "pygments_lexer": "ipython3",
   "version": "3.8.10"
  }
 },
 "nbformat": 4,
 "nbformat_minor": 5
}
