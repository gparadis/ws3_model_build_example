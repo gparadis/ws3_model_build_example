{
 "cells": [
  {
   "cell_type": "markdown",
   "id": "fe4de448-d218-420b-bdae-17c1e4b4181c",
   "metadata": {},
   "source": [
    "Example of building a new `ws3` model from scratch."
   ]
  },
  {
   "cell_type": "code",
   "execution_count": 1,
   "id": "1271efba-f9c2-40a8-86c9-2d2e6ca4323f",
   "metadata": {
    "tags": []
   },
   "outputs": [
    {
     "name": "stderr",
     "output_type": "stream",
     "text": [
      "/opt/jupyterhub/lib/python3.8/site-packages/geopandas/_compat.py:111: UserWarning: The Shapely GEOS version (3.10.2-CAPI-1.16.0) is incompatible with the GEOS version PyGEOS was compiled with (3.10.3-CAPI-1.16.1). Conversions between both will be slow.\n",
      "  warnings.warn(\n"
     ]
    }
   ],
   "source": [
    "import pandas as pd\n",
    "import geopandas as gpd\n",
    "\n",
    "import ws3.forest, ws3.core"
   ]
  },
  {
   "cell_type": "code",
   "execution_count": 2,
   "id": "11a7ae85-6e7e-4537-b645-249a76208841",
   "metadata": {
    "tags": []
   },
   "outputs": [],
   "source": [
    "base_year = 2020\n",
    "horizon = 10\n",
    "period_length = 10\n",
    "max_age = 999\n",
    "tvy_name = 'totvol'"
   ]
  },
  {
   "cell_type": "markdown",
   "id": "44b25362-0314-472c-925e-97bb74c3e724",
   "metadata": {},
   "source": [
    "Now populate `fm` with data."
   ]
  },
  {
   "cell_type": "markdown",
   "id": "d3e8b152-771b-44b9-a05f-5e4cddc0d788",
   "metadata": {},
   "source": [
    "Create a new blank `ForestModel` instance."
   ]
  },
  {
   "cell_type": "markdown",
   "id": "7f3b7453-999a-42f4-a8f7-ac647edbb919",
   "metadata": {
    "tags": []
   },
   "source": [
    "# Build a ws3 model from Woodstock-format text input files\n",
    "\n",
    "`ws3` has built-in functions that can parse Woodstock-formatted model definition text files. Here we build an equivalent model to above, but using Woodstock-foratted text files (as an alternative to the pure Python code implementation above)."
   ]
  },
  {
   "cell_type": "markdown",
   "id": "709868de-4c7d-4e51-9f18-492fb8d13e51",
   "metadata": {},
   "source": [
    "Start by creating a new directory to hold the model definition files."
   ]
  },
  {
   "cell_type": "markdown",
   "id": "83095b12-fce0-4bd4-8b88-15d12d918661",
   "metadata": {},
   "source": [
    "Woodstock models are defined in terms of a number of _sections_. The sections can be defined in a single text file, or in separate text files. We will use separate text files for each section in this example.\n",
    "\n",
    "Our model will include the following sections:\n",
    "\n",
    "LANDSCAPE\n",
    "AREAS\n",
    "YIELD\n",
    "ACTIONS\n",
    "TRANSITIONS\n",
    "\n",
    "There are other possible sections that one can include in a Woodstock model, which will not include here. This is not intended to be a comprehensive overview of Woodstock-format model definition. Refer to the Woodstock technical documentation for the complete story."
   ]
  },
  {
   "cell_type": "markdown",
   "id": "cd5e79bf-78ff-4e2d-be35-061270bde2c8",
   "metadata": {},
   "source": [
    "## Create and run `ForestModel` instance"
   ]
  },
  {
   "cell_type": "code",
   "execution_count": 3,
   "id": "63caeb20-8ea2-4a9e-9bca-623b8e08e1e1",
   "metadata": {
    "tags": []
   },
   "outputs": [],
   "source": [
    "fm = ws3.forest.ForestModel(model_name='tsa24_clipped',\n",
    "                            model_path='data/woodstock_model_files2',\n",
    "                            base_year=base_year,\n",
    "                            horizon=horizon,\n",
    "                            period_length=period_length,\n",
    "                            max_age=max_age)"
   ]
  },
  {
   "cell_type": "code",
   "execution_count": 4,
   "id": "2b17687f-0e31-4fd7-b0ac-be84a05571ce",
   "metadata": {
    "tags": []
   },
   "outputs": [],
   "source": [
    "fm.import_landscape_section()"
   ]
  },
  {
   "cell_type": "code",
   "execution_count": 5,
   "id": "9b98c164-1697-44c5-8eb6-75480fb96414",
   "metadata": {
    "tags": []
   },
   "outputs": [
    {
     "data": {
      "text/plain": [
       "0"
      ]
     },
     "execution_count": 5,
     "metadata": {},
     "output_type": "execute_result"
    }
   ],
   "source": [
    "fm.import_areas_section()"
   ]
  },
  {
   "cell_type": "code",
   "execution_count": 6,
   "id": "98118df3-ca57-4511-9b66-1cb1dca7ff7d",
   "metadata": {
    "tags": []
   },
   "outputs": [
    {
     "name": "stdout",
     "output_type": "stream",
     "text": [
      "('?', '?', '?', '?', '?') 2\n",
      "('?', '?', '2401002', '?', '2401002') 1\n",
      "('?', '?', '2401002', '?', '2401002f50o') 0\n",
      "('?', '?', '2401002', '?', '2401002f50t') 0\n",
      "('?', '?', '2402002', '?', '2402002') 1\n",
      "('?', '?', '2402002', '?', '2402002f50o') 0\n",
      "('?', '?', '2402002', '?', '2402002f50t') 0\n"
     ]
    }
   ],
   "source": [
    "fm.import_yields_section()"
   ]
  },
  {
   "cell_type": "code",
   "execution_count": 7,
   "id": "7c578f04-2274-4cdb-bd10-17764b7309da",
   "metadata": {
    "tags": []
   },
   "outputs": [],
   "source": [
    "fm.import_actions_section()"
   ]
  },
  {
   "cell_type": "code",
   "execution_count": 8,
   "id": "4d3e528f-1de4-49de-a9f8-f87279004b2a",
   "metadata": {
    "tags": []
   },
   "outputs": [],
   "source": [
    "fm.import_transitions_section()"
   ]
  },
  {
   "cell_type": "code",
   "execution_count": 9,
   "id": "21328d8c-a905-420c-afaa-927131d4681b",
   "metadata": {
    "tags": []
   },
   "outputs": [],
   "source": [
    "fm.initialize_areas()\n",
    "fm.reset_actions()"
   ]
  },
  {
   "cell_type": "code",
   "execution_count": 10,
   "id": "b85fdc40-09c9-4324-b421-5da41294abf5",
   "metadata": {
    "tags": []
   },
   "outputs": [],
   "source": [
    "class GreedyAreaSelector:\n",
    "    \"\"\"\n",
    "    Default AreaSelector implementation. Selects areas for treatment from oldest age classes.\n",
    "    \"\"\"\n",
    "    def __init__(self, parent):\n",
    "        self.parent = parent\n",
    "\n",
    "    def operate(self, period, acode, target_area, mask=None,\n",
    "                commit_actions=True, verbose=False):\n",
    "        \"\"\"\n",
    "        Greedily operate on oldest operable age classes.\n",
    "        Returns missing area (i.e., difference between target and operated areas).\n",
    "        \"\"\"\n",
    "        key = lambda item: max(item[1])\n",
    "        odt = sorted(list(self.parent.operable_dtypes(acode, period, mask).items()), key=key)\n",
    "        print(' entering selector.operate()', len(odt), 'operable dtypes')\n",
    "        while target_area > 0 and odt:\n",
    "            while target_area > 0 and odt:\n",
    "                popped = odt.pop()\n",
    "                try:\n",
    "                    dtk, ages = popped #odt.pop()\n",
    "                except:\n",
    "                    print(odt)\n",
    "                    print(popped)\n",
    "                    raise\n",
    "                age = sorted(ages)[-1]\n",
    "                oa = self.parent.dtypes[dtk].operable_area(acode, period, age)\n",
    "                if not oa: continue # nothing to operate\n",
    "                area = min(oa, target_area)\n",
    "                target_area -= area\n",
    "                if area < 0:\n",
    "                    print('negative area', area, oa, target_area, acode, period, age)\n",
    "                    assert False\n",
    "                if verbose:\n",
    "                    print(' selector found area', [' '.join(dtk)], acode, period, age, area)\n",
    "                self.parent.apply_action(dtk, acode, period, age, area, \n",
    "                                         fuzzy_age=False, recourse_enabled=False, \n",
    "                                         compile_c_ycomps=True, verbose=verbose)\n",
    "            odt = sorted(list(self.parent.operable_dtypes(acode, period, mask).items()), key=key)\n",
    "        self.parent.commit_actions(period, repair_future_actions=True)\n",
    "        if verbose:\n",
    "            print('GreedyAreaSelector.operate done (remaining target_area: %0.1f)' % target_area)\n",
    "        return target_area"
   ]
  },
  {
   "cell_type": "code",
   "execution_count": 11,
   "id": "2e71df98-9660-400b-a900-a3992a7c0826",
   "metadata": {
    "tags": []
   },
   "outputs": [],
   "source": [
    "fm.areaselector = GreedyAreaSelector(fm)"
   ]
  },
  {
   "cell_type": "code",
   "execution_count": 12,
   "id": "72838cdf-2ef7-4f2f-b43d-f3eda9684b88",
   "metadata": {
    "tags": []
   },
   "outputs": [],
   "source": [
    "# copy function definition for debugging\n",
    "def schedule_harvest_areacontrol(fm, period=1, acode='harvest', util=0.85, \n",
    "                                 target_masks=None, target_areas=None, target_scalefactors=None,\n",
    "                                 mask_area_thresh=0.,\n",
    "                                 verbose=0):\n",
    "    #fm.reset_actions()\n",
    "    if not target_areas:\n",
    "        if not target_masks: # default to AU-wise THLB \n",
    "            au_vals = []\n",
    "            au_agg = []\n",
    "            for au in fm.theme_basecodes(2):\n",
    "                mask = '? 1 %s ? ?' % au\n",
    "                masked_area = fm.inventory(0, mask=mask)\n",
    "                #print(mask, masked_area)\n",
    "                if masked_area > mask_area_thresh:\n",
    "                    #print(masked_area, mask_area_thresh)\n",
    "                    au_vals.append(au)\n",
    "                else:\n",
    "                    au_agg.append(au)\n",
    "                    if verbose > 0:\n",
    "                        print('adding to au_agg', mask, masked_area)\n",
    "                #print(au_vals)\n",
    "            if au_agg:\n",
    "                fm._themes[2]['areacontrol_au_agg'] = au_agg \n",
    "                if fm.inventory(0, mask='? ? areacontrol_au_agg ? ?') > mask_area_thresh:\n",
    "                    au_vals.append('areacontrol_au_agg')\n",
    "            target_masks = ['? 1 %s ? ?' % au for au in au_vals]\n",
    "            #print(au_vals)\n",
    "            #print(target_masks)\n",
    "        print(target_masks, au_vals)\n",
    "        #assert False\n",
    "        target_areas = []\n",
    "        for i, mask in enumerate(target_masks): # compute area-weighted mean CMAI age for each masked DT set\n",
    "            masked_area = fm.inventory(0, mask=mask, verbose=verbose)\n",
    "            if not masked_area: continue\n",
    "            r = sum((fm.dtypes[dtk].ycomp('totvol').mai().ytp().lookup(0) * fm.dtypes[dtk].area(0)) for dtk in fm.unmask(mask))\n",
    "            r /= masked_area\n",
    "            #awr = []\n",
    "            #dtype_keys = fm.unmask(mask)\n",
    "            #for dtk in dtype_keys:\n",
    "            #    dt = fm.dtypes[dtk]\n",
    "            #    awr.append(dt.ycomp('totvol').mai().ytp().lookup(0) * dt.area(0))\n",
    "            #r = sum(awr)  / masked_area\n",
    "            asf = 1. if not target_scalefactors else target_scalefactors[i]  \n",
    "            print(i)\n",
    "            print(mask)\n",
    "            print(masked_area)\n",
    "            ta = (1/r) * fm.period_length * masked_area * asf\n",
    "            target_areas.append(ta)\n",
    "    for mask, target_area in zip(target_masks, target_areas):\n",
    "        if verbose > 0:\n",
    "            print('calling areaselector', period, acode, target_area, mask)\n",
    "        fm.areaselector.operate(period, acode, target_area, mask=mask, verbose=verbose)\n",
    "    sch = fm.compile_schedule()\n",
    "    return sch"
   ]
  },
  {
   "cell_type": "code",
   "execution_count": 13,
   "id": "fdc3bf93-e461-465c-be5d-6d13dac2269f",
   "metadata": {
    "tags": []
   },
   "outputs": [
    {
     "name": "stdout",
     "output_type": "stream",
     "text": [
      "adding to au_agg ? 1 2401007 ? ? 0.0\n",
      "adding to au_agg ? 1 2402001 ? ? 0.0\n",
      "adding to au_agg ? 1 2401005 ? ? 0.0\n",
      "adding to au_agg ? 1 2402000 ? ? 0.0\n",
      "adding to au_agg ? 1 2403004 ? ? 0.0\n",
      "adding to au_agg ? 1 2403006 ? ? 0.0\n",
      "adding to au_agg ? 1 2401004 ? ? 0.0\n",
      "adding to au_agg ? 1 2401006 ? ? 0.0\n",
      "adding to au_agg ? 1 2402004 ? ? 0.0\n",
      "adding to au_agg ? 1 2402007 ? ? 0.0\n",
      "adding to au_agg ? 1 2403005 ? ? 0.0\n",
      "adding to au_agg ? 1 2403007 ? ? 0.0\n",
      "adding to au_agg ? 1 2403003 ? ? 0.0\n",
      "adding to au_agg ? 1 2401000 ? ? 0.0\n",
      "adding to au_agg ? 1 2402005 ? ? 0.0\n",
      "adding to au_agg ? 1 2402006 ? ? 0.0\n",
      "adding to au_agg ? 1 2401003 ? ? 0.0\n",
      "adding to au_agg ? 1 2403002 ? ? 0.0\n",
      "adding to au_agg ? 1 2402003 ? ? 0.0\n",
      "adding to au_agg ? 1 2403000 ? ? 0.0\n",
      "adding to au_agg ? 1 2401001 ? ? 0.0\n",
      "adding to au_agg ? 1 2403001 ? ? 0.0\n",
      "['? 1 2402002 ? ?', '? 1 2401002 ? ?'] ['2402002', '2401002']\n",
      "0\n",
      "? 1 2402002 ? ?\n",
      "100.0\n",
      "1\n",
      "? 1 2401002 ? ?\n",
      "100.0\n",
      "calling areaselector 1 harvest 11.363636363636365 ? 1 2402002 ? ?\n",
      " entering selector.operate() 0 operable dtypes\n",
      "GreedyAreaSelector.operate done (remaining target_area: 11.4)\n",
      "calling areaselector 1 harvest 9.70873786407767 ? 1 2401002 ? ?\n",
      " entering selector.operate() 0 operable dtypes\n",
      "GreedyAreaSelector.operate done (remaining target_area: 9.7)\n"
     ]
    },
    {
     "data": {
      "text/plain": [
       "[]"
      ]
     },
     "execution_count": 13,
     "metadata": {},
     "output_type": "execute_result"
    }
   ],
   "source": [
    "schedule_harvest_areacontrol(fm, period=1, verbose=1)"
   ]
  },
  {
   "cell_type": "code",
   "execution_count": 27,
   "id": "4dcdb966-7e3d-40de-afb1-31aa1670d539",
   "metadata": {
    "tags": []
   },
   "outputs": [
    {
     "name": "stdout",
     "output_type": "stream",
     "text": [
      "adding to au_agg ? 1 2401007 ? ? 0.0\n",
      "adding to au_agg ? 1 2402001 ? ? 0.0\n",
      "adding to au_agg ? 1 2401005 ? ? 0.0\n",
      "adding to au_agg ? 1 2402000 ? ? 0.0\n",
      "adding to au_agg ? 1 2403004 ? ? 0.0\n",
      "adding to au_agg ? 1 2403006 ? ? 0.0\n",
      "adding to au_agg ? 1 2401004 ? ? 0.0\n",
      "adding to au_agg ? 1 2401006 ? ? 0.0\n",
      "adding to au_agg ? 1 2402004 ? ? 0.0\n",
      "adding to au_agg ? 1 2402007 ? ? 0.0\n",
      "adding to au_agg ? 1 2403005 ? ? 0.0\n",
      "adding to au_agg ? 1 2403007 ? ? 0.0\n",
      "adding to au_agg ? 1 2403003 ? ? 0.0\n",
      "adding to au_agg ? 1 2401000 ? ? 0.0\n",
      "adding to au_agg ? 1 2402005 ? ? 0.0\n",
      "adding to au_agg ? 1 2402006 ? ? 0.0\n",
      "adding to au_agg ? 1 2401003 ? ? 0.0\n",
      "adding to au_agg ? 1 2403002 ? ? 0.0\n",
      "adding to au_agg ? 1 2402003 ? ? 0.0\n",
      "adding to au_agg ? 1 2403000 ? ? 0.0\n",
      "adding to au_agg ? 1 2401001 ? ? 0.0\n",
      "adding to au_agg ? 1 2403001 ? ? 0.0\n",
      "['? 1 2402002 ? ?', '? 1 2401002 ? ?'] ['2402002', '2401002']\n",
      "0\n",
      "? 1 2402002 ? ?\n",
      "100.0\n",
      "1\n",
      "? 1 2401002 ? ?\n",
      "100.0\n",
      "calling areaselector 1 harvest 11.363636363636365 ? 1 2402002 ? ?\n",
      " entering selector.operate() 0 operable dtypes\n",
      "GreedyAreaSelector.operate done (remaining target_area: 11.4)\n",
      "calling areaselector 1 harvest 9.70873786407767 ? 1 2401002 ? ?\n",
      " entering selector.operate() 0 operable dtypes\n",
      "GreedyAreaSelector.operate done (remaining target_area: 9.7)\n",
      "adding to au_agg ? 1 2401007 ? ? 0.0\n",
      "adding to au_agg ? 1 2402001 ? ? 0.0\n",
      "adding to au_agg ? 1 2401005 ? ? 0.0\n",
      "adding to au_agg ? 1 2402000 ? ? 0.0\n",
      "adding to au_agg ? 1 2403004 ? ? 0.0\n",
      "adding to au_agg ? 1 2403006 ? ? 0.0\n",
      "adding to au_agg ? 1 2401004 ? ? 0.0\n",
      "adding to au_agg ? 1 2401006 ? ? 0.0\n",
      "adding to au_agg ? 1 2402004 ? ? 0.0\n",
      "adding to au_agg ? 1 2402007 ? ? 0.0\n",
      "adding to au_agg ? 1 2403005 ? ? 0.0\n",
      "adding to au_agg ? 1 2403007 ? ? 0.0\n",
      "adding to au_agg ? 1 2403003 ? ? 0.0\n",
      "adding to au_agg ? 1 2401000 ? ? 0.0\n",
      "adding to au_agg ? 1 2402005 ? ? 0.0\n",
      "adding to au_agg ? 1 2402006 ? ? 0.0\n",
      "adding to au_agg ? 1 2401003 ? ? 0.0\n",
      "adding to au_agg ? 1 2403002 ? ? 0.0\n",
      "adding to au_agg ? 1 2402003 ? ? 0.0\n",
      "adding to au_agg ? 1 2403000 ? ? 0.0\n",
      "adding to au_agg ? 1 2401001 ? ? 0.0\n",
      "adding to au_agg ? 1 2403001 ? ? 0.0\n",
      "['? 1 2402002 ? ?', '? 1 2401002 ? ?'] ['2402002', '2401002']\n",
      "0\n",
      "? 1 2402002 ? ?\n",
      "100.0\n",
      "1\n",
      "? 1 2401002 ? ?\n",
      "100.0\n",
      "calling areaselector 2 harvest 11.363636363636365 ? 1 2402002 ? ?\n",
      " entering selector.operate() 0 operable dtypes\n",
      "GreedyAreaSelector.operate done (remaining target_area: 11.4)\n",
      "calling areaselector 2 harvest 9.70873786407767 ? 1 2401002 ? ?\n",
      " entering selector.operate() 0 operable dtypes\n",
      "GreedyAreaSelector.operate done (remaining target_area: 9.7)\n",
      "adding to au_agg ? 1 2401007 ? ? 0.0\n",
      "adding to au_agg ? 1 2402001 ? ? 0.0\n",
      "adding to au_agg ? 1 2401005 ? ? 0.0\n",
      "adding to au_agg ? 1 2402000 ? ? 0.0\n",
      "adding to au_agg ? 1 2403004 ? ? 0.0\n",
      "adding to au_agg ? 1 2403006 ? ? 0.0\n",
      "adding to au_agg ? 1 2401004 ? ? 0.0\n",
      "adding to au_agg ? 1 2401006 ? ? 0.0\n",
      "adding to au_agg ? 1 2402004 ? ? 0.0\n",
      "adding to au_agg ? 1 2402007 ? ? 0.0\n",
      "adding to au_agg ? 1 2403005 ? ? 0.0\n",
      "adding to au_agg ? 1 2403007 ? ? 0.0\n",
      "adding to au_agg ? 1 2403003 ? ? 0.0\n",
      "adding to au_agg ? 1 2401000 ? ? 0.0\n",
      "adding to au_agg ? 1 2402005 ? ? 0.0\n",
      "adding to au_agg ? 1 2402006 ? ? 0.0\n",
      "adding to au_agg ? 1 2401003 ? ? 0.0\n",
      "adding to au_agg ? 1 2403002 ? ? 0.0\n",
      "adding to au_agg ? 1 2402003 ? ? 0.0\n",
      "adding to au_agg ? 1 2403000 ? ? 0.0\n",
      "adding to au_agg ? 1 2401001 ? ? 0.0\n",
      "adding to au_agg ? 1 2403001 ? ? 0.0\n",
      "['? 1 2402002 ? ?', '? 1 2401002 ? ?'] ['2402002', '2401002']\n",
      "0\n",
      "? 1 2402002 ? ?\n",
      "100.0\n",
      "1\n",
      "? 1 2401002 ? ?\n",
      "100.0\n",
      "calling areaselector 3 harvest 11.363636363636365 ? 1 2402002 ? ?\n",
      " entering selector.operate() 0 operable dtypes\n",
      "GreedyAreaSelector.operate done (remaining target_area: 11.4)\n",
      "calling areaselector 3 harvest 9.70873786407767 ? 1 2401002 ? ?\n",
      " entering selector.operate() 0 operable dtypes\n",
      "GreedyAreaSelector.operate done (remaining target_area: 9.7)\n",
      "adding to au_agg ? 1 2401007 ? ? 0.0\n",
      "adding to au_agg ? 1 2402001 ? ? 0.0\n",
      "adding to au_agg ? 1 2401005 ? ? 0.0\n",
      "adding to au_agg ? 1 2402000 ? ? 0.0\n",
      "adding to au_agg ? 1 2403004 ? ? 0.0\n",
      "adding to au_agg ? 1 2403006 ? ? 0.0\n",
      "adding to au_agg ? 1 2401004 ? ? 0.0\n",
      "adding to au_agg ? 1 2401006 ? ? 0.0\n",
      "adding to au_agg ? 1 2402004 ? ? 0.0\n",
      "adding to au_agg ? 1 2402007 ? ? 0.0\n",
      "adding to au_agg ? 1 2403005 ? ? 0.0\n",
      "adding to au_agg ? 1 2403007 ? ? 0.0\n",
      "adding to au_agg ? 1 2403003 ? ? 0.0\n",
      "adding to au_agg ? 1 2401000 ? ? 0.0\n",
      "adding to au_agg ? 1 2402005 ? ? 0.0\n",
      "adding to au_agg ? 1 2402006 ? ? 0.0\n",
      "adding to au_agg ? 1 2401003 ? ? 0.0\n",
      "adding to au_agg ? 1 2403002 ? ? 0.0\n",
      "adding to au_agg ? 1 2402003 ? ? 0.0\n",
      "adding to au_agg ? 1 2403000 ? ? 0.0\n",
      "adding to au_agg ? 1 2401001 ? ? 0.0\n",
      "adding to au_agg ? 1 2403001 ? ? 0.0\n",
      "['? 1 2402002 ? ?', '? 1 2401002 ? ?'] ['2402002', '2401002']\n",
      "0\n",
      "? 1 2402002 ? ?\n",
      "100.0\n",
      "1\n",
      "? 1 2401002 ? ?\n",
      "100.0\n",
      "calling areaselector 4 harvest 11.363636363636365 ? 1 2402002 ? ?\n",
      " entering selector.operate() 0 operable dtypes\n",
      "GreedyAreaSelector.operate done (remaining target_area: 11.4)\n",
      "calling areaselector 4 harvest 9.70873786407767 ? 1 2401002 ? ?\n",
      " entering selector.operate() 0 operable dtypes\n",
      "GreedyAreaSelector.operate done (remaining target_area: 9.7)\n",
      "adding to au_agg ? 1 2401007 ? ? 0.0\n",
      "adding to au_agg ? 1 2402001 ? ? 0.0\n",
      "adding to au_agg ? 1 2401005 ? ? 0.0\n",
      "adding to au_agg ? 1 2402000 ? ? 0.0\n",
      "adding to au_agg ? 1 2403004 ? ? 0.0\n",
      "adding to au_agg ? 1 2403006 ? ? 0.0\n",
      "adding to au_agg ? 1 2401004 ? ? 0.0\n",
      "adding to au_agg ? 1 2401006 ? ? 0.0\n",
      "adding to au_agg ? 1 2402004 ? ? 0.0\n",
      "adding to au_agg ? 1 2402007 ? ? 0.0\n",
      "adding to au_agg ? 1 2403005 ? ? 0.0\n",
      "adding to au_agg ? 1 2403007 ? ? 0.0\n",
      "adding to au_agg ? 1 2403003 ? ? 0.0\n",
      "adding to au_agg ? 1 2401000 ? ? 0.0\n",
      "adding to au_agg ? 1 2402005 ? ? 0.0\n",
      "adding to au_agg ? 1 2402006 ? ? 0.0\n",
      "adding to au_agg ? 1 2401003 ? ? 0.0\n",
      "adding to au_agg ? 1 2403002 ? ? 0.0\n",
      "adding to au_agg ? 1 2402003 ? ? 0.0\n",
      "adding to au_agg ? 1 2403000 ? ? 0.0\n",
      "adding to au_agg ? 1 2401001 ? ? 0.0\n",
      "adding to au_agg ? 1 2403001 ? ? 0.0\n",
      "['? 1 2402002 ? ?', '? 1 2401002 ? ?'] ['2402002', '2401002']\n",
      "0\n",
      "? 1 2402002 ? ?\n",
      "100.0\n",
      "1\n",
      "? 1 2401002 ? ?\n",
      "100.0\n",
      "calling areaselector 5 harvest 11.363636363636365 ? 1 2402002 ? ?\n",
      " entering selector.operate() 0 operable dtypes\n",
      "GreedyAreaSelector.operate done (remaining target_area: 11.4)\n",
      "calling areaselector 5 harvest 9.70873786407767 ? 1 2401002 ? ?\n",
      " entering selector.operate() 0 operable dtypes\n",
      "GreedyAreaSelector.operate done (remaining target_area: 9.7)\n",
      "adding to au_agg ? 1 2401007 ? ? 0.0\n",
      "adding to au_agg ? 1 2402001 ? ? 0.0\n",
      "adding to au_agg ? 1 2401005 ? ? 0.0\n",
      "adding to au_agg ? 1 2402000 ? ? 0.0\n",
      "adding to au_agg ? 1 2403004 ? ? 0.0\n",
      "adding to au_agg ? 1 2403006 ? ? 0.0\n",
      "adding to au_agg ? 1 2401004 ? ? 0.0\n",
      "adding to au_agg ? 1 2401006 ? ? 0.0\n",
      "adding to au_agg ? 1 2402004 ? ? 0.0\n",
      "adding to au_agg ? 1 2402007 ? ? 0.0\n",
      "adding to au_agg ? 1 2403005 ? ? 0.0\n",
      "adding to au_agg ? 1 2403007 ? ? 0.0\n",
      "adding to au_agg ? 1 2403003 ? ? 0.0\n",
      "adding to au_agg ? 1 2401000 ? ? 0.0\n",
      "adding to au_agg ? 1 2402005 ? ? 0.0\n",
      "adding to au_agg ? 1 2402006 ? ? 0.0\n",
      "adding to au_agg ? 1 2401003 ? ? 0.0\n",
      "adding to au_agg ? 1 2403002 ? ? 0.0\n",
      "adding to au_agg ? 1 2402003 ? ? 0.0\n",
      "adding to au_agg ? 1 2403000 ? ? 0.0\n",
      "adding to au_agg ? 1 2401001 ? ? 0.0\n",
      "adding to au_agg ? 1 2403001 ? ? 0.0\n",
      "['? 1 2402002 ? ?', '? 1 2401002 ? ?'] ['2402002', '2401002']\n",
      "0\n",
      "? 1 2402002 ? ?\n",
      "100.0\n",
      "1\n",
      "? 1 2401002 ? ?\n",
      "100.0\n",
      "calling areaselector 6 harvest 11.363636363636365 ? 1 2402002 ? ?\n",
      " entering selector.operate() 0 operable dtypes\n",
      "GreedyAreaSelector.operate done (remaining target_area: 11.4)\n",
      "calling areaselector 6 harvest 9.70873786407767 ? 1 2401002 ? ?\n",
      " entering selector.operate() 0 operable dtypes\n",
      "GreedyAreaSelector.operate done (remaining target_area: 9.7)\n",
      "adding to au_agg ? 1 2401007 ? ? 0.0\n",
      "adding to au_agg ? 1 2402001 ? ? 0.0\n",
      "adding to au_agg ? 1 2401005 ? ? 0.0\n",
      "adding to au_agg ? 1 2402000 ? ? 0.0\n",
      "adding to au_agg ? 1 2403004 ? ? 0.0\n",
      "adding to au_agg ? 1 2403006 ? ? 0.0\n",
      "adding to au_agg ? 1 2401004 ? ? 0.0\n",
      "adding to au_agg ? 1 2401006 ? ? 0.0\n",
      "adding to au_agg ? 1 2402004 ? ? 0.0\n",
      "adding to au_agg ? 1 2402007 ? ? 0.0\n",
      "adding to au_agg ? 1 2403005 ? ? 0.0\n",
      "adding to au_agg ? 1 2403007 ? ? 0.0\n",
      "adding to au_agg ? 1 2403003 ? ? 0.0\n",
      "adding to au_agg ? 1 2401000 ? ? 0.0\n",
      "adding to au_agg ? 1 2402005 ? ? 0.0\n",
      "adding to au_agg ? 1 2402006 ? ? 0.0\n",
      "adding to au_agg ? 1 2401003 ? ? 0.0\n",
      "adding to au_agg ? 1 2403002 ? ? 0.0\n",
      "adding to au_agg ? 1 2402003 ? ? 0.0\n",
      "adding to au_agg ? 1 2403000 ? ? 0.0\n",
      "adding to au_agg ? 1 2401001 ? ? 0.0\n",
      "adding to au_agg ? 1 2403001 ? ? 0.0\n",
      "['? 1 2402002 ? ?', '? 1 2401002 ? ?'] ['2402002', '2401002']\n",
      "0\n",
      "? 1 2402002 ? ?\n",
      "100.0\n",
      "1\n",
      "? 1 2401002 ? ?\n",
      "100.0\n",
      "calling areaselector 7 harvest 11.363636363636365 ? 1 2402002 ? ?\n",
      " entering selector.operate() 0 operable dtypes\n",
      "GreedyAreaSelector.operate done (remaining target_area: 11.4)\n",
      "calling areaselector 7 harvest 9.70873786407767 ? 1 2401002 ? ?\n",
      " entering selector.operate() 0 operable dtypes\n",
      "GreedyAreaSelector.operate done (remaining target_area: 9.7)\n",
      "adding to au_agg ? 1 2401007 ? ? 0.0\n",
      "adding to au_agg ? 1 2402001 ? ? 0.0\n",
      "adding to au_agg ? 1 2401005 ? ? 0.0\n",
      "adding to au_agg ? 1 2402000 ? ? 0.0\n",
      "adding to au_agg ? 1 2403004 ? ? 0.0\n",
      "adding to au_agg ? 1 2403006 ? ? 0.0\n",
      "adding to au_agg ? 1 2401004 ? ? 0.0\n",
      "adding to au_agg ? 1 2401006 ? ? 0.0\n",
      "adding to au_agg ? 1 2402004 ? ? 0.0\n",
      "adding to au_agg ? 1 2402007 ? ? 0.0\n",
      "adding to au_agg ? 1 2403005 ? ? 0.0\n",
      "adding to au_agg ? 1 2403007 ? ? 0.0\n",
      "adding to au_agg ? 1 2403003 ? ? 0.0\n",
      "adding to au_agg ? 1 2401000 ? ? 0.0\n",
      "adding to au_agg ? 1 2402005 ? ? 0.0\n",
      "adding to au_agg ? 1 2402006 ? ? 0.0\n",
      "adding to au_agg ? 1 2401003 ? ? 0.0\n",
      "adding to au_agg ? 1 2403002 ? ? 0.0\n",
      "adding to au_agg ? 1 2402003 ? ? 0.0\n",
      "adding to au_agg ? 1 2403000 ? ? 0.0\n",
      "adding to au_agg ? 1 2401001 ? ? 0.0\n",
      "adding to au_agg ? 1 2403001 ? ? 0.0\n",
      "['? 1 2402002 ? ?', '? 1 2401002 ? ?'] ['2402002', '2401002']\n",
      "0\n",
      "? 1 2402002 ? ?\n",
      "100.0\n",
      "1\n",
      "? 1 2401002 ? ?\n",
      "100.0\n",
      "calling areaselector 8 harvest 11.363636363636365 ? 1 2402002 ? ?\n",
      " entering selector.operate() 0 operable dtypes\n",
      "GreedyAreaSelector.operate done (remaining target_area: 11.4)\n",
      "calling areaselector 8 harvest 9.70873786407767 ? 1 2401002 ? ?\n",
      " entering selector.operate() 0 operable dtypes\n",
      "GreedyAreaSelector.operate done (remaining target_area: 9.7)\n",
      "adding to au_agg ? 1 2401007 ? ? 0.0\n",
      "adding to au_agg ? 1 2402001 ? ? 0.0\n",
      "adding to au_agg ? 1 2401005 ? ? 0.0\n",
      "adding to au_agg ? 1 2402000 ? ? 0.0\n",
      "adding to au_agg ? 1 2403004 ? ? 0.0\n",
      "adding to au_agg ? 1 2403006 ? ? 0.0\n",
      "adding to au_agg ? 1 2401004 ? ? 0.0\n",
      "adding to au_agg ? 1 2401006 ? ? 0.0\n",
      "adding to au_agg ? 1 2402004 ? ? 0.0\n",
      "adding to au_agg ? 1 2402007 ? ? 0.0\n",
      "adding to au_agg ? 1 2403005 ? ? 0.0\n",
      "adding to au_agg ? 1 2403007 ? ? 0.0\n",
      "adding to au_agg ? 1 2403003 ? ? 0.0\n",
      "adding to au_agg ? 1 2401000 ? ? 0.0\n",
      "adding to au_agg ? 1 2402005 ? ? 0.0\n",
      "adding to au_agg ? 1 2402006 ? ? 0.0\n",
      "adding to au_agg ? 1 2401003 ? ? 0.0\n",
      "adding to au_agg ? 1 2403002 ? ? 0.0\n",
      "adding to au_agg ? 1 2402003 ? ? 0.0\n",
      "adding to au_agg ? 1 2403000 ? ? 0.0\n",
      "adding to au_agg ? 1 2401001 ? ? 0.0\n",
      "adding to au_agg ? 1 2403001 ? ? 0.0\n",
      "['? 1 2402002 ? ?', '? 1 2401002 ? ?'] ['2402002', '2401002']\n",
      "0\n",
      "? 1 2402002 ? ?\n",
      "100.0\n",
      "1\n",
      "? 1 2401002 ? ?\n",
      "100.0\n",
      "calling areaselector 9 harvest 11.363636363636365 ? 1 2402002 ? ?\n",
      " entering selector.operate() 0 operable dtypes\n",
      "GreedyAreaSelector.operate done (remaining target_area: 11.4)\n",
      "calling areaselector 9 harvest 9.70873786407767 ? 1 2401002 ? ?\n",
      " entering selector.operate() 0 operable dtypes\n",
      "GreedyAreaSelector.operate done (remaining target_area: 9.7)\n",
      "adding to au_agg ? 1 2401007 ? ? 0.0\n",
      "adding to au_agg ? 1 2402001 ? ? 0.0\n",
      "adding to au_agg ? 1 2401005 ? ? 0.0\n",
      "adding to au_agg ? 1 2402000 ? ? 0.0\n",
      "adding to au_agg ? 1 2403004 ? ? 0.0\n",
      "adding to au_agg ? 1 2403006 ? ? 0.0\n",
      "adding to au_agg ? 1 2401004 ? ? 0.0\n",
      "adding to au_agg ? 1 2401006 ? ? 0.0\n",
      "adding to au_agg ? 1 2402004 ? ? 0.0\n",
      "adding to au_agg ? 1 2402007 ? ? 0.0\n",
      "adding to au_agg ? 1 2403005 ? ? 0.0\n",
      "adding to au_agg ? 1 2403007 ? ? 0.0\n",
      "adding to au_agg ? 1 2403003 ? ? 0.0\n",
      "adding to au_agg ? 1 2401000 ? ? 0.0\n",
      "adding to au_agg ? 1 2402005 ? ? 0.0\n",
      "adding to au_agg ? 1 2402006 ? ? 0.0\n",
      "adding to au_agg ? 1 2401003 ? ? 0.0\n",
      "adding to au_agg ? 1 2403002 ? ? 0.0\n",
      "adding to au_agg ? 1 2402003 ? ? 0.0\n",
      "adding to au_agg ? 1 2403000 ? ? 0.0\n",
      "adding to au_agg ? 1 2401001 ? ? 0.0\n",
      "adding to au_agg ? 1 2403001 ? ? 0.0\n",
      "['? 1 2402002 ? ?', '? 1 2401002 ? ?'] ['2402002', '2401002']\n",
      "0\n",
      "? 1 2402002 ? ?\n",
      "100.0\n",
      "1\n",
      "? 1 2401002 ? ?\n",
      "100.0\n",
      "calling areaselector 10 harvest 11.363636363636365 ? 1 2402002 ? ?\n",
      " entering selector.operate() 0 operable dtypes\n",
      "GreedyAreaSelector.operate done (remaining target_area: 11.4)\n",
      "calling areaselector 10 harvest 9.70873786407767 ? 1 2401002 ? ?\n",
      " entering selector.operate() 0 operable dtypes\n",
      "GreedyAreaSelector.operate done (remaining target_area: 9.7)\n"
     ]
    }
   ],
   "source": [
    "for period in fm.periods:\n",
    "    schedule_harvest_areacontrol(fm, period=period, verbose=1)"
   ]
  },
  {
   "cell_type": "code",
   "execution_count": 28,
   "id": "49c5d27a-0d95-41f4-9591-f366b0a02295",
   "metadata": {
    "tags": []
   },
   "outputs": [],
   "source": [
    "pareas = [fm.compile_product(period, '1.') for period in fm.periods]"
   ]
  },
  {
   "cell_type": "code",
   "execution_count": 29,
   "id": "b2f6abc3-ff6e-48fa-b57d-9eb87838c646",
   "metadata": {
    "tags": []
   },
   "outputs": [],
   "source": [
    "pvols = [fm.compile_product(period, 'totvol') for period in fm.periods]"
   ]
  },
  {
   "cell_type": "code",
   "execution_count": 30,
   "id": "baf1a6cd-7210-4e14-ad33-e2e68b77797f",
   "metadata": {
    "tags": []
   },
   "outputs": [
    {
     "data": {
      "text/html": [
       "<div>\n",
       "<style scoped>\n",
       "    .dataframe tbody tr th:only-of-type {\n",
       "        vertical-align: middle;\n",
       "    }\n",
       "\n",
       "    .dataframe tbody tr th {\n",
       "        vertical-align: top;\n",
       "    }\n",
       "\n",
       "    .dataframe thead th {\n",
       "        text-align: right;\n",
       "    }\n",
       "</style>\n",
       "<table border=\"1\" class=\"dataframe\">\n",
       "  <thead>\n",
       "    <tr style=\"text-align: right;\">\n",
       "      <th></th>\n",
       "      <th>period</th>\n",
       "      <th>areas</th>\n",
       "      <th>vols</th>\n",
       "    </tr>\n",
       "  </thead>\n",
       "  <tbody>\n",
       "    <tr>\n",
       "      <th>0</th>\n",
       "      <td>1</td>\n",
       "      <td>0.0</td>\n",
       "      <td>0.0</td>\n",
       "    </tr>\n",
       "    <tr>\n",
       "      <th>1</th>\n",
       "      <td>2</td>\n",
       "      <td>0.0</td>\n",
       "      <td>0.0</td>\n",
       "    </tr>\n",
       "    <tr>\n",
       "      <th>2</th>\n",
       "      <td>3</td>\n",
       "      <td>0.0</td>\n",
       "      <td>0.0</td>\n",
       "    </tr>\n",
       "    <tr>\n",
       "      <th>3</th>\n",
       "      <td>4</td>\n",
       "      <td>0.0</td>\n",
       "      <td>0.0</td>\n",
       "    </tr>\n",
       "    <tr>\n",
       "      <th>4</th>\n",
       "      <td>5</td>\n",
       "      <td>0.0</td>\n",
       "      <td>0.0</td>\n",
       "    </tr>\n",
       "    <tr>\n",
       "      <th>5</th>\n",
       "      <td>6</td>\n",
       "      <td>0.0</td>\n",
       "      <td>0.0</td>\n",
       "    </tr>\n",
       "    <tr>\n",
       "      <th>6</th>\n",
       "      <td>7</td>\n",
       "      <td>0.0</td>\n",
       "      <td>0.0</td>\n",
       "    </tr>\n",
       "    <tr>\n",
       "      <th>7</th>\n",
       "      <td>8</td>\n",
       "      <td>0.0</td>\n",
       "      <td>0.0</td>\n",
       "    </tr>\n",
       "    <tr>\n",
       "      <th>8</th>\n",
       "      <td>9</td>\n",
       "      <td>0.0</td>\n",
       "      <td>0.0</td>\n",
       "    </tr>\n",
       "    <tr>\n",
       "      <th>9</th>\n",
       "      <td>10</td>\n",
       "      <td>0.0</td>\n",
       "      <td>0.0</td>\n",
       "    </tr>\n",
       "  </tbody>\n",
       "</table>\n",
       "</div>"
      ],
      "text/plain": [
       "   period  areas  vols\n",
       "0       1    0.0   0.0\n",
       "1       2    0.0   0.0\n",
       "2       3    0.0   0.0\n",
       "3       4    0.0   0.0\n",
       "4       5    0.0   0.0\n",
       "5       6    0.0   0.0\n",
       "6       7    0.0   0.0\n",
       "7       8    0.0   0.0\n",
       "8       9    0.0   0.0\n",
       "9      10    0.0   0.0"
      ]
     },
     "execution_count": 30,
     "metadata": {},
     "output_type": "execute_result"
    }
   ],
   "source": [
    "df = pd.DataFrame({'period':fm.periods, 'areas':pareas, 'vols':pvols})\n",
    "df"
   ]
  },
  {
   "cell_type": "code",
   "execution_count": 31,
   "id": "bb9a5379-555e-4c30-92eb-c9df205a3a63",
   "metadata": {
    "tags": []
   },
   "outputs": [
    {
     "data": {
      "text/plain": [
       "<matplotlib.axes._subplots.AxesSubplot at 0x7f0f15d8b220>"
      ]
     },
     "execution_count": 31,
     "metadata": {},
     "output_type": "execute_result"
    },
    {
     "data": {
      "image/png": "[encoded data removed]",
      "text/plain": [
       "<Figure size 432x288 with 1 Axes>"
      ]
     },
     "metadata": {
      "needs_background": "light"
     },
     "output_type": "display_data"
    }
   ],
   "source": [
    "(df.vols/df.areas).plot()"
   ]
  },
  {
   "cell_type": "code",
   "execution_count": null,
   "id": "21689e1a-e3c2-4f0b-82c0-3969d9936ea6",
   "metadata": {
    "collapsed": true,
    "jupyter": {
     "outputs_hidden": true
    }
   },
   "outputs": [],
   "source": []
  },
  {
   "cell_type": "code",
   "execution_count": null,
   "id": "d45b1774-3c9b-41bb-a3ec-08e40006f7b9",
   "metadata": {},
   "outputs": [],
   "source": []
  }
 ],
 "metadata": {
  "kernelspec": {
   "display_name": "Python 3 (ipykernel)",
   "language": "python",
   "name": "python3"
  },
  "language_info": {
   "codemirror_mode": {
    "name": "ipython",
    "version": 3
   },
   "file_extension": ".py",
   "mimetype": "text/x-python",
   "name": "python",
   "nbconvert_exporter": "python",
   "pygments_lexer": "ipython3",
   "version": "3.8.10"
  }
 },
 "nbformat": 4,
 "nbformat_minor": 5
}
